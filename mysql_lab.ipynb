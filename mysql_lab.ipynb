{
 "cells": [
  {
   "cell_type": "code",
   "execution_count": 2,
   "metadata": {
    "ExecuteTime": {
     "end_time": "2023-10-20T12:44:26.104129742Z",
     "start_time": "2023-10-20T12:44:25.659816974Z"
    }
   },
   "outputs": [],
   "source": [
    "import pymysql, random\n",
    "\n",
    "# 连接到MySQL数据库\n",
    "conn = pymysql.connect(\n",
    "    host=\"vultr-prod-0735f93d-5e03-4e4b-b1ae-878c590715ab-vultr-prod-7d22.vultrdb.com\",     # MySQL服务器的主机名或IP地址\n",
    "    user=\"vultradmin\", # MySQL用户名\n",
    "    password=\"AVNS_PcAfxyST1X5nxEzfYSq\", # MySQL密码\n",
    "    database=\"order\",\n",
    "    port=16751\n",
    ")\n",
    "\n",
    "# 创建一个游标对象，用于执行SQL查询\n",
    "cursor = conn.cursor()\n"
   ]
  },
  {
   "cell_type": "code",
   "execution_count": 4,
   "metadata": {
    "ExecuteTime": {
     "end_time": "2023-10-20T12:44:48.871282537Z",
     "start_time": "2023-10-20T12:44:48.865864210Z"
    }
   },
   "outputs": [
    {
     "name": "stdout",
     "output_type": "stream",
     "text": [
      "INSERT INTO master (id, 1_favor, 1_number, 2_favor, 2_number, 3_favor, 3_number, 4_favor, 4_number, 5_favor, 5_number, 6_favor, 6_number, status, total) VALUES ('#RJ862', '0', '0', '0', '0', '0', '0', '0', '0', '0', '0', '1', '1', '0', '35')\n"
     ]
    },
    {
     "data": {
      "text/plain": "'#RJ862'"
     },
     "execution_count": 4,
     "metadata": {},
     "output_type": "execute_result"
    }
   ],
   "source": [
    "def create_order(data):\n",
    "    letters = 'ABCDEFGHIJKLMNOPQRSTUVWXYZ'\n",
    "    numbers = '0123456789'\n",
    "    random_letters = ''.join(random.choice(letters) for _ in range(2))\n",
    "    random_numbers = ''.join(random.choice(numbers) for _ in range(3))\n",
    "\n",
    "    order_idx = '#'+random_letters+random_numbers\n",
    "    total_price = 0\n",
    "    price_dict = {'1':20, '2':40, '3':50, '4':30, '5':35, '6': {'1': 35, '2': 40, '3': 40, '4': 40, '5': 40}}\n",
    "    for i in data:\n",
    "        if i['id'] == '6':\n",
    "            total_price += price_dict[i['id']][i['flavor']] * int(i['qty'])\n",
    "        else:\n",
    "            total_price += price_dict[i['id']] * int(i['qty'])\n",
    "\n",
    "    # 寫入mysql dataset\n",
    "    '''html格式:\n",
    "    create table master\n",
    "    (\n",
    "        id   varchar(10)         not null,\n",
    "        1_favor varchar(10)  not null,\n",
    "        1_number varchar(10)  not null,\n",
    "        2_favor varchar(10)  not null,\n",
    "        2_number varchar(10)  not null,\n",
    "        3_favor varchar(10)  not null,\n",
    "        3_number varchar(10)  not null,\n",
    "        4_favor varchar(10)  not null,\n",
    "        4_number varchar(10)  not null,\n",
    "        5_favor varchar(10)  not null,\n",
    "        5_number varchar(10)  not null,\n",
    "        6_favor varchar(10)  not null,\n",
    "        6_number varchar(10)  not null,\n",
    "        status  varchar(10)          not null,\n",
    "        total varchar(10)  not null,\n",
    "        primary key (id)\n",
    "    );'''\n",
    "    \n",
    "    ordered_data = [0]*12 # 根據id填入相對應的6個品項，若該項qty為0則填入n\n",
    "    for i in range(len(data)):\n",
    "        ordered_data[2*int(data[i]['id'])-2] = data[i]['flavor']\n",
    "        ordered_data[2*int(data[i]['id'])-1] = data[i]['qty']\n",
    "\n",
    "    # write to sql\n",
    "    prompt = '''INSERT INTO master (id, 1_favor, 1_number, 2_favor, 2_number, 3_favor, 3_number, 4_favor, 4_number, 5_favor, 5_number, 6_favor, 6_number, status, total) VALUES ('{}', '{}', '{}', '{}', '{}', '{}', '{}', '{}', '{}', '{}', '{}', '{}', '{}', '{}', '{}')'''.format(order_idx, ordered_data[0], ordered_data[1], ordered_data[2], ordered_data[3], ordered_data[4], ordered_data[5], ordered_data[6], ordered_data[7], ordered_data[8], ordered_data[9], ordered_data[10], ordered_data[11], '0', str(total_price))\n",
    "    print(prompt)\n",
    "    # cursor.execute(prompt)\n",
    "\n",
    "    return order_idx\n",
    "\n",
    "# 測試\n",
    "data = [{'id': '6', 'flavor': '1', 'qty': '1'}]\n",
    "create_order(data)"
   ]
  },
  {
   "cell_type": "code",
   "execution_count": 50,
   "outputs": [
    {
     "data": {
      "text/plain": "(('#QY088',\n  '011',\n  '2',\n  '0',\n  '0',\n  '0',\n  '0',\n  '0',\n  '0',\n  '0',\n  '0',\n  '0',\n  '0',\n  '2',\n  '40'),\n ('#RJ862',\n  '0',\n  '0',\n  '0',\n  '0',\n  '0',\n  '0',\n  '0',\n  '0',\n  '0',\n  '0',\n  '1',\n  '1',\n  '0',\n  '35'))"
     },
     "execution_count": 50,
     "metadata": {},
     "output_type": "execute_result"
    }
   ],
   "source": [
    "def get_all_data():\n",
    "    # 從mysql中讀取data\n",
    "    prompt = '''SELECT * FROM master'''\n",
    "    cursor.execute(prompt)\n",
    "    result = cursor.fetchall()\n",
    "    return result\n",
    "\n",
    "# 測試\n",
    "(get_all_data())"
   ],
   "metadata": {
    "collapsed": false,
    "ExecuteTime": {
     "end_time": "2023-10-20T14:36:38.223888866Z",
     "start_time": "2023-10-20T14:36:38.136500774Z"
    }
   }
  },
  {
   "cell_type": "code",
   "execution_count": 30,
   "outputs": [
    {
     "name": "stdout",
     "output_type": "stream",
     "text": [
      "#QY088\n",
      "#RJ862\n"
     ]
    },
    {
     "data": {
      "text/plain": "'error'"
     },
     "execution_count": 30,
     "metadata": {},
     "output_type": "execute_result"
    }
   ],
   "source": [
    "def check_order_info(target_id):\n",
    "    for i in get_all_data():\n",
    "        print(i[0])\n",
    "        if i[0] == target_id: # id 對應到第0個數據\n",
    "            print(i)\n",
    "            return i[13]\n",
    "    return 'error'\n",
    "\n",
    "# 測試\n",
    "check_order_info('#ZK176')"
   ],
   "metadata": {
    "collapsed": false,
    "ExecuteTime": {
     "end_time": "2023-10-20T13:20:21.958906717Z",
     "start_time": "2023-10-20T13:20:21.884245760Z"
    }
   }
  },
  {
   "cell_type": "code",
   "execution_count": 21,
   "outputs": [
    {
     "name": "stdout",
     "output_type": "stream",
     "text": [
      "UPDATE master SET status = '2' WHERE id = '#QY088' ;\n"
     ]
    },
    {
     "data": {
      "text/plain": "'0'"
     },
     "execution_count": 21,
     "metadata": {},
     "output_type": "execute_result"
    }
   ],
   "source": [
    "def upload_order_info(target_id, target_state):\n",
    "    # 更新訂單資訊\n",
    "    prompt = '''UPDATE master SET status = '{}' WHERE id = '{}' ;'''.format(target_state, target_id)\n",
    "    print(prompt)\n",
    "    cursor.execute(prompt)\n",
    "    conn.commit()\n",
    "    \n",
    "# 測試\n",
    "upload_order_info('#QY088', '2')\n",
    "check_order_info('#QY088')"
   ],
   "metadata": {
    "collapsed": false,
    "ExecuteTime": {
     "end_time": "2023-10-20T12:59:29.595150756Z",
     "start_time": "2023-10-20T12:59:29.448820732Z"
    }
   }
  },
  {
   "cell_type": "code",
   "execution_count": 46,
   "outputs": [
    {
     "name": "stdout",
     "output_type": "stream",
     "text": [
      "2\n",
      "{'id': '#RJ862', '6': {'flavor': '香草', 'qty': '1'}, 'total': 35, 'status': 0}\n",
      "{'id': '#QY088', '1': {'flavor': '', 'qty': '2'}, 'total': 40, 'status': 2}\n"
     ]
    },
    {
     "data": {
      "text/plain": "[{'id': '#RJ862', '6': {'flavor': '香草', 'qty': '1'}, 'total': 35, 'status': 0},\n {'id': '#QY088', '1': {'flavor': '', 'qty': '2'}, 'total': 40, 'status': 2}]"
     },
     "execution_count": 46,
     "metadata": {},
     "output_type": "execute_result"
    }
   ],
   "source": [
    "def cashier_refresh(): # download orders info\n",
    "    orders = list(get_all_data())\n",
    "    orders = [i for i in orders if i[13] != \"3\"] # 排除已完成訂單\n",
    "    orders = sorted(orders, key=lambda x: x[13]) # 從未付款的代號0的訂單開始排序\n",
    "    \n",
    "    flavor_dict = {\n",
    "        '1': ['香草', '草莓', '巧克力'],\n",
    "        '2': ['香草', '草莓', '巧克力'],\n",
    "        '3': ['香草', '草莓', '巧克力'],\n",
    "        '4': ['原味', '蒜味'],\n",
    "        '5': 'n',\n",
    "        '6': ['可爾必思 35元', '石榴氣泡水 35元', '葡萄氣泡水 35元','水蜜桃棄泡水 35元','蘋果氣泡水 35元']\n",
    "    }\n",
    "    \n",
    "    result = []\n",
    "    \n",
    "\n",
    "    for o in orders:\n",
    "        order_dict = {}\n",
    "        order_dict['id'] = o[0]\n",
    "        \n",
    "        i = 0\n",
    "        for item in range(1, 13, 2):\n",
    "            if o[item] != 'n' and o[item+1] != '0':\n",
    "                i += 1\n",
    "                if len(o[item]) == 1 and o[item] != '5':\n",
    "                    o_item_text = flavor_dict[o[item]][int(o[item+1])-1]\n",
    "                elif o[item] == '5':\n",
    "                    o_item_text = '預設'\n",
    "                else:\n",
    "                    o_item_text = ''\n",
    "                    for w in o[item].replace(' ','').split():\n",
    "                        if w == '0':\n",
    "                            o_item_text += '香草'\n",
    "                        elif w == '1':\n",
    "                            o_item_text += '草莓'\n",
    "                        elif w == '2':\n",
    "                            o_item_text += '巧克力'\n",
    "                order_dict[str(int((item+1)/2))] = {'flavor': o_item_text, 'qty': o[item+1]}\n",
    "        order_dict['total'] = int(o[14])\n",
    "        order_dict['status'] = int(o[13])\n",
    "        print(order_dict)\n",
    "        result.append(order_dict)\n",
    "\n",
    "    return result\n",
    "\n",
    "# 測試\n",
    "cashier_refresh()"
   ],
   "metadata": {
    "collapsed": false,
    "ExecuteTime": {
     "end_time": "2023-10-20T14:34:59.838751593Z",
     "start_time": "2023-10-20T14:34:59.749914513Z"
    }
   }
  }
 ],
 "metadata": {
  "kernelspec": {
   "display_name": "Python 3.7.9 32-bit",
   "language": "python",
   "name": "python3"
  },
  "language_info": {
   "codemirror_mode": {
    "name": "ipython",
    "version": 3
   },
   "file_extension": ".py",
   "mimetype": "text/x-python",
   "name": "python",
   "nbconvert_exporter": "python",
   "pygments_lexer": "ipython3",
   "version": "3.7.9"
  },
  "orig_nbformat": 4,
  "vscode": {
   "interpreter": {
    "hash": "ea6da4a58b79df5fa2fcd2fed3dd390fee628f9116616ff25cb3229910b2feb1"
   }
  }
 },
 "nbformat": 4,
 "nbformat_minor": 2
}
