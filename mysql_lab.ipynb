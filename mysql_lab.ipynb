{
 "cells": [
  {
   "cell_type": "code",
   "execution_count": 6,
   "metadata": {},
   "outputs": [],
   "source": [
    "import pymysql, random\n",
    "\n",
    "# 连接到MySQL数据库\n",
    "conn = pymysql.connect(\n",
    "    host=\"vultr-prod-0735f93d-5e03-4e4b-b1ae-878c590715ab-vultr-prod-7d22.vultrdb.com\",     # MySQL服务器的主机名或IP地址\n",
    "    user=\"vultradmin\", # MySQL用户名\n",
    "    password=\"AVNS_PcAfxyST1X5nxEzfYSq\", # MySQL密码\n",
    "    database=\"order\",\n",
    "    port=16751\n",
    ")\n",
    "\n",
    "# 创建一个游标对象，用于执行SQL查询\n",
    "cursor = conn.cursor()\n"
   ]
  },
  {
   "cell_type": "code",
   "execution_count": 8,
   "metadata": {},
   "outputs": [
    {
     "name": "stdout",
     "output_type": "stream",
     "text": [
      "('id',)\n",
      "('status',)\n",
      "('total',)\n"
     ]
    }
   ],
   "source": [
    "def get_all_data():\n",
    "    # 從mysql中讀取data\n",
    "    # prompt = '''SELECT * FROM master'''\n",
    "    # cursor.execute(prompt)\n",
    "    # result = cursor.fetchall()\n",
    "    # for i in result:\n",
    "    #     print(i)\n",
    "    \n",
    "    prompt = '''SELECT `COLUMN_NAME` \n",
    "FROM `INFORMATION_SCHEMA`.`COLUMNS` \n",
    "WHERE `TABLE_SCHEMA`='order' \n",
    "    AND `TABLE_NAME`='master';'''\n",
    "    cursor.execute(prompt)\n",
    "    for i in cursor.fetchall():\n",
    "        print(i)\n",
    "\n",
    "get_all_data()"
   ]
  },
  {
   "cell_type": "code",
   "execution_count": null,
   "metadata": {},
   "outputs": [],
   "source": [
    "def create_order(data):\n",
    "    letters = 'ABCDEFGHIJKLMNOPQRSTUVWXYZ'\n",
    "    numbers = '0123456789'\n",
    "    random_letters = ''.join(random.choice(letters) for _ in range(2))\n",
    "    random_numbers = ''.join(random.choice(numbers) for _ in range(3))\n",
    "\n",
    "    totals\n",
    "\n",
    "    order_idx = '#'+random_letters+random_numbers\n",
    "    status = '0'\n",
    "    total = 100\n",
    "\n",
    "    # 寫入mysql dataset\n",
    "    \n",
    "    prompt = f'''INSERT INTO master (item,flavor,qty) VALUES (%s,%s,%s)'''\n",
    "\n",
    "    return order_idx"
   ]
  }
 ],
 "metadata": {
  "kernelspec": {
   "display_name": "Python 3.7.9 32-bit",
   "language": "python",
   "name": "python3"
  },
  "language_info": {
   "codemirror_mode": {
    "name": "ipython",
    "version": 3
   },
   "file_extension": ".py",
   "mimetype": "text/x-python",
   "name": "python",
   "nbconvert_exporter": "python",
   "pygments_lexer": "ipython3",
   "version": "3.7.9"
  },
  "orig_nbformat": 4,
  "vscode": {
   "interpreter": {
    "hash": "ea6da4a58b79df5fa2fcd2fed3dd390fee628f9116616ff25cb3229910b2feb1"
   }
  }
 },
 "nbformat": 4,
 "nbformat_minor": 2
}
