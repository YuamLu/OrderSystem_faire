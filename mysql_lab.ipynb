{
 "cells": [
  {
   "cell_type": "code",
   "execution_count": 2,
   "metadata": {
    "ExecuteTime": {
     "end_time": "2023-10-20T12:44:26.104129742Z",
     "start_time": "2023-10-20T12:44:25.659816974Z"
    }
   },
   "outputs": [],
   "source": [
    "import pymysql, random\n",
    "\n",
    "# 连接到MySQL数据库\n",
    "conn = pymysql.connect(\n",
    "    host=\"vultr-prod-0735f93d-5e03-4e4b-b1ae-878c590715ab-vultr-prod-7d22.vultrdb.com\",     # MySQL服务器的主机名或IP地址\n",
    "    user=\"vultradmin\", # MySQL用户名\n",
    "    password=\"AVNS_PcAfxyST1X5nxEzfYSq\", # MySQL密码\n",
    "    database=\"order\",\n",
    "    port=16751\n",
    ")\n",
    "\n",
    "# 创建一个游标对象，用于执行SQL查询\n",
    "cursor = conn.cursor()\n"
   ]
  },
  {
   "cell_type": "code",
   "execution_count": 8,
   "metadata": {},
   "outputs": [
    {
     "name": "stdout",
     "output_type": "stream",
     "text": [
      "('id',)\n",
      "('status',)\n",
      "('total',)\n"
     ]
    }
   ],
   "source": [
    "def get_all_data():\n",
    "    # 從mysql中讀取data\n",
    "    # prompt = '''SELECT * FROM master'''\n",
    "    # cursor.execute(prompt)\n",
    "    # result = cursor.fetchall()\n",
    "    # for i in result:\n",
    "    #     print(i)\n",
    "    \n",
    "    prompt = '''SELECT `COLUMN_NAME` \n",
    "FROM `INFORMATION_SCHEMA`.`COLUMNS` \n",
    "WHERE `TABLE_SCHEMA`='order' \n",
    "    AND `TABLE_NAME`='master';'''\n",
    "    cursor.execute(prompt)\n",
    "    for i in cursor.fetchall():\n",
    "        print(i)\n",
    "\n",
    "get_all_data()"
   ]
  },
  {
   "cell_type": "code",
   "execution_count": 4,
   "metadata": {
    "ExecuteTime": {
     "end_time": "2023-10-20T12:44:48.871282537Z",
     "start_time": "2023-10-20T12:44:48.865864210Z"
    }
   },
   "outputs": [
    {
     "name": "stdout",
     "output_type": "stream",
     "text": [
      "INSERT INTO master (id, 1_favor, 1_number, 2_favor, 2_number, 3_favor, 3_number, 4_favor, 4_number, 5_favor, 5_number, 6_favor, 6_number, status, total) VALUES ('#RJ862', '0', '0', '0', '0', '0', '0', '0', '0', '0', '0', '1', '1', '0', '35')\n"
     ]
    },
    {
     "data": {
      "text/plain": "'#RJ862'"
     },
     "execution_count": 4,
     "metadata": {},
     "output_type": "execute_result"
    }
   ],
   "source": [
    "def create_order(data):\n",
    "    letters = 'ABCDEFGHIJKLMNOPQRSTUVWXYZ'\n",
    "    numbers = '0123456789'\n",
    "    random_letters = ''.join(random.choice(letters) for _ in range(2))\n",
    "    random_numbers = ''.join(random.choice(numbers) for _ in range(3))\n",
    "\n",
    "    order_idx = '#'+random_letters+random_numbers\n",
    "    total_price = 0\n",
    "    price_dict = {'1':20, '2':40, '3':50, '4':30, '5':35, '6': {'1': 35, '2': 40, '3': 40, '4': 40, '5': 40}}\n",
    "    for i in data:\n",
    "        if i['id'] == '6':\n",
    "            total_price += price_dict[i['id']][i['flavor']] * int(i['qty'])\n",
    "        else:\n",
    "            total_price += price_dict[i['id']] * int(i['qty'])\n",
    "\n",
    "    # 寫入mysql dataset\n",
    "    '''html格式:\n",
    "    create table master\n",
    "    (\n",
    "        id   varchar(10)         not null,\n",
    "        1_favor varchar(10)  not null,\n",
    "        1_number varchar(10)  not null,\n",
    "        2_favor varchar(10)  not null,\n",
    "        2_number varchar(10)  not null,\n",
    "        3_favor varchar(10)  not null,\n",
    "        3_number varchar(10)  not null,\n",
    "        4_favor varchar(10)  not null,\n",
    "        4_number varchar(10)  not null,\n",
    "        5_favor varchar(10)  not null,\n",
    "        5_number varchar(10)  not null,\n",
    "        6_favor varchar(10)  not null,\n",
    "        6_number varchar(10)  not null,\n",
    "        status  varchar(10)          not null,\n",
    "        total varchar(10)  not null,\n",
    "        primary key (id)\n",
    "    );'''\n",
    "    \n",
    "    ordered_data = [0]*12 # 根據id填入相對應的6個品項，若該項qty為0則填入n\n",
    "    for i in range(len(data)):\n",
    "        ordered_data[2*int(data[i]['id'])-2] = data[i]['flavor']\n",
    "        ordered_data[2*int(data[i]['id'])-1] = data[i]['qty']\n",
    "\n",
    "    # write to sql\n",
    "    prompt = '''INSERT INTO master (id, 1_favor, 1_number, 2_favor, 2_number, 3_favor, 3_number, 4_favor, 4_number, 5_favor, 5_number, 6_favor, 6_number, status, total) VALUES ('{}', '{}', '{}', '{}', '{}', '{}', '{}', '{}', '{}', '{}', '{}', '{}', '{}', '{}', '{}')'''.format(order_idx, ordered_data[0], ordered_data[1], ordered_data[2], ordered_data[3], ordered_data[4], ordered_data[5], ordered_data[6], ordered_data[7], ordered_data[8], ordered_data[9], ordered_data[10], ordered_data[11], '0', str(total_price))\n",
    "    print(prompt)\n",
    "    # cursor.execute(prompt)\n",
    "\n",
    "    return order_idx\n",
    "\n",
    "# 測試\n",
    "data = [{'id': '6', 'flavor': '1', 'qty': '1'}]\n",
    "create_order(data)"
   ]
  },
  {
   "cell_type": "code",
   "execution_count": null,
   "outputs": [],
   "source": [],
   "metadata": {
    "collapsed": false
   }
  }
 ],
 "metadata": {
  "kernelspec": {
   "display_name": "Python 3.7.9 32-bit",
   "language": "python",
   "name": "python3"
  },
  "language_info": {
   "codemirror_mode": {
    "name": "ipython",
    "version": 3
   },
   "file_extension": ".py",
   "mimetype": "text/x-python",
   "name": "python",
   "nbconvert_exporter": "python",
   "pygments_lexer": "ipython3",
   "version": "3.7.9"
  },
  "orig_nbformat": 4,
  "vscode": {
   "interpreter": {
    "hash": "ea6da4a58b79df5fa2fcd2fed3dd390fee628f9116616ff25cb3229910b2feb1"
   }
  }
 },
 "nbformat": 4,
 "nbformat_minor": 2
}
